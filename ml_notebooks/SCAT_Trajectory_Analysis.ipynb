{
 "cells": [
  {
   "cell_type": "markdown",
   "id": "30d92147",
   "metadata": {},
   "source": [
    "# SCAT Trajectory Analysis with Weather Features\n",
    "\n",
    "**Objective:**  \n",
    "Analyze and model flight trajectories using the SCAT dataset with weather data.\n",
    "\n",
    "**Pipeline Overview:**\n",
    "- Load and summarize train/val/test splits\n",
    "- Visualize flights (2D/3D + weather)\n",
    "- Engineer features (velocity, bearing)\n",
    "- Normalize + build PyTorch dataset\n",
    "- Train GRU sequence model\n",
    "- Evaluate predictions (MAE, RMSE, plots)"
   ]
  },
  {
   "cell_type": "markdown",
   "id": "6cfb3fb6",
   "metadata": {},
   "source": [
    "# Imports & Config"
   ]
  },
  {
   "cell_type": "code",
   "execution_count": 37,
   "id": "def47353",
   "metadata": {},
   "outputs": [],
   "source": [
    "# basic stuff\n",
    "import os, sys, importlib, math, random, time\n",
    "import numpy as np\n",
    "import pandas as pd\n",
    "\n",
    "# plots\n",
    "import matplotlib.pyplot as plt\n",
    "import seaborn as sns\n",
    "from mpl_toolkits.mplot3d import Axes3D\n",
    "import plotly.graph_objects as go\n",
    "\n",
    "# torch\n",
    "import torch\n",
    "import torch.nn as nn\n",
    "from torch.utils.data import Dataset, DataLoader"
   ]
  },
  {
   "cell_type": "code",
   "execution_count": 2,
   "id": "77990b90",
   "metadata": {},
   "outputs": [],
   "source": [
    "# paths \n",
    "project_root = \"C:/Users/flyin/OneDrive/Documents/GitHub/dataset-research-SCAT\"\n",
    "data_dir = f\"{project_root}/data/validated\"\n",
    "parquet_path = f\"{data_dir}/validated_cleaned_FINAL.parquet\" \n",
    "split_dir = data_dir\n",
    "\n",
    "assert os.path.exists(parquet_path), f\"Missing dataset at {parquet_path}\""
   ]
  },
  {
   "cell_type": "code",
   "execution_count": 3,
   "id": "c0ff5ca8",
   "metadata": {},
   "outputs": [
    {
     "name": "stdout",
     "output_type": "stream",
     "text": [
      "Device: cuda\n"
     ]
    }
   ],
   "source": [
    "# reproducibility-ish\n",
    "seed = 42\n",
    "random.seed(seed); np.random.seed(seed); torch.manual_seed(seed)\n",
    "torch.backends.cudnn.deterministic = False\n",
    "torch.backends.cudnn.benchmark = True\n",
    "\n",
    "device = torch.device(\"cuda\" if torch.cuda.is_available() else \"cpu\")\n",
    "print(\"Device:\", device)"
   ]
  },
  {
   "cell_type": "markdown",
   "id": "23168371",
   "metadata": {},
   "source": [
    "# Load Splits"
   ]
  },
  {
   "cell_type": "code",
   "execution_count": 4,
   "id": "19facb58",
   "metadata": {},
   "outputs": [
    {
     "name": "stdout",
     "output_type": "stream",
     "text": [
      "raw shape: (70197504, 8) | flights: 167536\n",
      "  flight_id                       time        lat        lon     alt  temp  \\\n",
      "0    100000 2016-10-20 11:40:02.898437  55.348172  13.029962  146.25 -48.0   \n",
      "1    100000 2016-10-20 11:40:07.898437  55.340731  13.036260  149.00 -48.0   \n",
      "2    100000 2016-10-20 11:40:12.898437  55.333242  13.042418  150.25 -48.0   \n",
      "\n",
      "   wind_spd  wind_dir  \n",
      "0        15     113.2  \n",
      "1        15     113.2  \n",
      "2        15     113.2  \n"
     ]
    }
   ],
   "source": [
    "df_all = pd.read_parquet(parquet_path)\n",
    "df_all[\"time\"] = pd.to_datetime(df_all[\"time\"])\n",
    "df_all[\"flight_id\"] = df_all[\"flight_id\"].astype(str)\n",
    "print(\"raw shape:\", df_all.shape, \"| flights:\", df_all[\"flight_id\"].nunique())\n",
    "print(df_all.head(3))"
   ]
  },
  {
   "cell_type": "code",
   "execution_count": 5,
   "id": "672409ff",
   "metadata": {},
   "outputs": [],
   "source": [
    "# split helpers\n",
    "def split_by_flight(df, train_frac=0.8, val_frac=0.1):\n",
    "    fids = df[\"flight_id\"].unique()\n",
    "    rng = np.random.default_rng(seed); rng.shuffle(fids)\n",
    "    n = len(fids)\n",
    "    n_train = int(n*train_frac); n_val = int(n*val_frac)\n",
    "    train_f = set(fids[:n_train])\n",
    "    val_f   = set(fids[n_train:n_train+n_val])\n",
    "    test_f  = set(fids[n_train+n_val:])\n",
    "    return (\n",
    "        df[df.flight_id.isin(train_f)].copy(),\n",
    "        df[df.flight_id.isin(val_f)].copy(),\n",
    "        df[df.flight_id.isin(test_f)].copy()\n",
    "    )\n",
    "\n",
    "# keep flights with at least \"min_points\" rows, then cap the number of flights per split\n",
    "def limit_flights(df, min_points=200, max_flights=None):\n",
    "    counts = df.groupby(\"flight_id\").size()\n",
    "    keep = counts[counts >= min_points].index\n",
    "    df = df[df.flight_id.isin(keep)]\n",
    "    if max_flights is not None and len(keep) > max_flights:\n",
    "        keep_small = np.random.default_rng(seed).choice(keep, size=max_flights, replace=False)\n",
    "        df = df[df.flight_id.isin(keep_small)]\n",
    "    return df"
   ]
  },
  {
   "cell_type": "markdown",
   "id": "c59926d4",
   "metadata": {},
   "source": [
    "## Data Exploration"
   ]
  },
  {
   "cell_type": "code",
   "execution_count": 9,
   "id": "712d63e1",
   "metadata": {},
   "outputs": [
    {
     "name": "stdout",
     "output_type": "stream",
     "text": [
      "\n",
      "========================================\n",
      "TRAIN Dataset Info\n",
      "========================================\n",
      "Shape: (709933, 12)\n",
      "Columns: ['flight_id', 'time', 'lat', 'lon', 'alt', 'temp', 'wind_spd', 'wind_dir', 'dt', 'vx_ms', 'vy_ms', 'climb_ms']\n",
      "Flight IDs: 1500 unique\n",
      "\n",
      "Time Range: 2016-10-15 01:18:02.296875 to 2017-09-22 18:53:10.898437\n",
      "\n",
      "Missing Values:\n",
      "None\n",
      "\n",
      "Numeric Stats:\n",
      "                mean         std         min         max\n",
      "lat        58.447969    2.390374   54.268588   68.878559\n",
      "lon        16.042595    2.342194   10.530562   23.952733\n",
      "alt       265.807391  120.710239    0.250000  430.000000\n",
      "temp      -32.333913   23.262997  -73.000000   10.000000\n",
      "wind_spd   34.160284   24.092527    0.000000  144.000000\n",
      "wind_dir  229.011911   97.174891    0.000000  357.900000\n",
      "dt          5.001127    0.105536    1.195312   30.000000\n",
      "vx_ms      -3.017769  137.090240 -262.558258  279.088348\n",
      "vy_ms       2.056779  148.095581 -278.670532  282.787537\n",
      "climb_ms   -0.009084    0.195589   -1.350000    1.400000\n",
      "\n",
      "========================================\n",
      "VALIDATION Dataset Info\n",
      "========================================\n",
      "Shape: (138303, 12)\n",
      "Columns: ['flight_id', 'time', 'lat', 'lon', 'alt', 'temp', 'wind_spd', 'wind_dir', 'dt', 'vx_ms', 'vy_ms', 'climb_ms']\n",
      "Flight IDs: 300 unique\n",
      "\n",
      "Time Range: 2016-10-15 01:13:02.500000 to 2017-09-22 11:12:23.500000\n",
      "\n",
      "Missing Values:\n",
      "None\n",
      "\n",
      "Numeric Stats:\n",
      "                mean         std         min         max\n",
      "lat        58.354720    2.133709   54.275744   67.391918\n",
      "lon        16.043490    2.279619   10.616124   23.628743\n",
      "alt       265.146105  121.264749    0.250000  410.000000\n",
      "temp      -32.336247   23.168073  -73.000000   10.000000\n",
      "wind_spd   34.641360   24.286906    0.000000  144.000000\n",
      "wind_dir  224.091381   99.245034    0.000000  357.600000\n",
      "dt          5.000521    0.098490    1.500000   10.195313\n",
      "vx_ms     -14.970563  138.070114 -240.983704  278.357178\n",
      "vy_ms      -8.118487  146.267914 -280.162750  273.075897\n",
      "climb_ms   -0.017157    0.195279   -1.750000    1.250000\n",
      "\n",
      "========================================\n",
      "TEST Dataset Info\n",
      "========================================\n",
      "Shape: (143240, 12)\n",
      "Columns: ['flight_id', 'time', 'lat', 'lon', 'alt', 'temp', 'wind_spd', 'wind_dir', 'dt', 'vx_ms', 'vy_ms', 'climb_ms']\n",
      "Flight IDs: 300 unique\n",
      "\n",
      "Time Range: 2016-10-15 05:45:58 to 2017-09-22 18:36:01.296875\n",
      "\n",
      "Missing Values:\n",
      "None\n",
      "\n",
      "Numeric Stats:\n",
      "                mean         std         min         max\n",
      "lat        58.425956    2.348670   54.277729   67.794818\n",
      "lon        16.161160    2.303827   10.559444   23.650512\n",
      "alt       256.367649  122.885635    0.250000  410.000000\n",
      "temp      -32.360514   23.127662  -73.000000   10.000000\n",
      "wind_spd   34.593249   24.632664    0.000000  144.000000\n",
      "wind_dir  226.159250  100.334751    0.000000  357.900000\n",
      "dt          5.000584    0.124710    1.703125   35.203125\n",
      "vx_ms      -8.469914  134.563644 -255.683609  275.076599\n",
      "vy_ms     -23.445999  144.130966 -276.893463  400.000000\n",
      "climb_ms   -0.002465    0.198799   -1.200000    1.400000\n"
     ]
    }
   ],
   "source": [
    "def explore_data(df, name=\"\"):\n",
    "    print(f\"\\n{'='*40}\\n{name} Dataset Info\\n{'='*40}\")\n",
    "    print(f\"Shape: {df.shape}\")\n",
    "    print(f\"Columns: {list(df.columns)}\")\n",
    "    print(f\"Flight IDs: {df['flight_id'].nunique()} unique\")\n",
    "    if \"time\" in df:\n",
    "        times = pd.to_datetime(df[\"time\"])\n",
    "        print(f\"\\nTime Range: {times.min()} to {times.max()}\")\n",
    "    missing = df.isnull().sum()\n",
    "    print(\"\\nMissing Values:\")\n",
    "    print(missing[missing > 0].to_string() if missing.any() else \"None\")\n",
    "    print(\"\\nNumeric Stats:\")\n",
    "    num = df.select_dtypes(include='number')\n",
    "    if len(num.columns):\n",
    "        print(num.describe().loc[['mean','std','min','max']].T)\n",
    "    else:\n",
    "        print(\"None\")\n",
    "\n",
    "explore_data(train_df, \"TRAIN\")\n",
    "explore_data(val_df,   \"VALIDATION\")\n",
    "explore_data(test_df,  \"TEST\")"
   ]
  },
  {
   "cell_type": "markdown",
   "id": "b81ce5d7",
   "metadata": {},
   "source": [
    "# Feature Engineering"
   ]
  },
  {
   "cell_type": "code",
   "execution_count": 6,
   "id": "7f909307",
   "metadata": {},
   "outputs": [],
   "source": [
    "# motion features (m/s)\n",
    "def add_features(df):\n",
    "    df = df.sort_values([\"flight_id\",\"time\"]).copy()\n",
    "    dt = df.groupby(\"flight_id\")[\"time\"].diff().dt.total_seconds()\n",
    "    df = df[(dt >= 1.0) & np.isfinite(dt)].copy()\n",
    "    df[\"dt\"] = dt\n",
    "\n",
    "    # diffs to meters using local equirectangular approx\n",
    "    R = 6_371_000.0\n",
    "    lat_rad = np.radians(df[\"lat\"])\n",
    "    dlat = np.radians(df.groupby(\"flight_id\")[\"lat\"].diff())\n",
    "    dlon = np.radians(df.groupby(\"flight_id\")[\"lon\"].diff())\n",
    "    y_m = dlat * R\n",
    "    x_m = dlon * R * np.cos(lat_rad)\n",
    "\n",
    "    vx = (x_m / df[\"dt\"]).clip(-400, 400)     # ~±1440 km/h\n",
    "    vy = (y_m / df[\"dt\"]).clip(-400, 400)\n",
    "    climb = (df.groupby(\"flight_id\")[\"alt\"].diff() / df[\"dt\"]).clip(-30, 30)\n",
    "\n",
    "    df[\"vx_ms\"] = vx.astype(\"float32\")\n",
    "    df[\"vy_ms\"] = vy.astype(\"float32\")\n",
    "    df[\"climb_ms\"] = climb.astype(\"float32\")\n",
    "\n",
    "    # keep necessary cols\n",
    "    df = df.dropna(subset=[\"lat\",\"lon\",\"alt\",\"vx_ms\",\"vy_ms\",\"climb_ms\",\"dt\"])\n",
    "    return df"
   ]
  },
  {
   "cell_type": "code",
   "execution_count": 7,
   "id": "85ea5b48",
   "metadata": {},
   "outputs": [
    {
     "name": "stdout",
     "output_type": "stream",
     "text": [
      "train (709933, 12) flights: 1500 time: 2016-10-15 01:18:02.296875 → 2017-09-22 18:53:10.898437\n",
      "val (138303, 12) flights: 300 time: 2016-10-15 01:13:02.500000 → 2017-09-22 11:12:23.500000\n",
      "test (143240, 12) flights: 300 time: 2016-10-15 05:45:58 → 2017-09-22 18:36:01.296875\n"
     ]
    }
   ],
   "source": [
    "# build splits\n",
    "train_df, val_df, test_df = split_by_flight(df_all)\n",
    "train_df = limit_flights(train_df, min_points=200, max_flights=1500)\n",
    "val_df = limit_flights(val_df,   min_points=200, max_flights=300)\n",
    "test_df = limit_flights(test_df,  min_points=200, max_flights=300)\n",
    "\n",
    "train_df = add_features(train_df)\n",
    "val_df = add_features(val_df)\n",
    "test_df = add_features(test_df)\n",
    "\n",
    "for name, df in [(\"train\",train_df),(\"val\",val_df),(\"test\",test_df)]:\n",
    "    print(name, df.shape, \"flights:\", df[\"flight_id\"].nunique(),\n",
    "          \"time:\", df[\"time\"].min(), \"→\", df[\"time\"].max())"
   ]
  },
  {
   "cell_type": "code",
   "execution_count": 10,
   "id": "5eb38709",
   "metadata": {},
   "outputs": [],
   "source": [
    "# ground speed (km/h) from vx, vy in m/s\n",
    "for _df in (train_df, val_df, test_df):\n",
    "    speed_ms = np.hypot(_df[\"vx_ms\"], _df[\"vy_ms\"])\n",
    "    _df[\"velocity_kmh\"] = (speed_ms * 3.6).astype(\"float32\")\n",
    "    # optional: clip to a sane range to prevent tiny tails from dominating log scale\n",
    "    _df[\"velocity_kmh\"] = _df[\"velocity_kmh\"].clip(0, 1200)"
   ]
  },
  {
   "cell_type": "code",
   "execution_count": 11,
   "id": "d02c61f1",
   "metadata": {},
   "outputs": [
    {
     "data": {
      "image/png": "[encoded data removed]",
      "text/plain": [
       "<Figure size 1200x500 with 1 Axes>"
      ]
     },
     "metadata": {},
     "output_type": "display_data"
    }
   ],
   "source": [
    "plt.figure(figsize=(12,5))\n",
    "ax = sns.histplot(train_df[\"velocity_kmh\"].dropna(), bins=100, kde=True)\n",
    "\n",
    "# reference lines\n",
    "plt.axvline(250, linestyle=\":\", label=\"Takeoff/Approach (~250 km/h)\")\n",
    "plt.axvline(900, linestyle=\"--\", label=\"High Cruise (~900 km/h)\")\n",
    "plt.axvline(train_df[\"velocity_kmh\"].median(), linestyle=\"-\", label=\"Median\")\n",
    "\n",
    "plt.title(\"Aircraft Velocity Distribution (km/h)\\nPost-Cleaning\", fontsize=14)\n",
    "plt.xlabel(\"Ground Speed (km/h)\")\n",
    "plt.ylabel(\"Frequency (log scale)\")\n",
    "plt.yscale(\"log\")\n",
    "plt.legend()\n",
    "plt.grid(alpha=0.3)\n",
    "\n",
    "# Stats box\n",
    "stats_text = (\n",
    "    f\"Statistics:\\n\"\n",
    "    f\"Mean: {train_df['velocity_kmh'].mean():.1f} km/h\\n\"\n",
    "    f\"Std Dev: {train_df['velocity_kmh'].std():.1f} km/h\\n\"\n",
    "    f\"95th %ile: {train_df['velocity_kmh'].quantile(0.95):.1f} km/h\"\n",
    ")\n",
    "plt.annotate(\n",
    "    stats_text, xy=(0.70, 0.70), xycoords=\"axes fraction\",\n",
    "    bbox=dict(boxstyle=\"round\", alpha=0.2)\n",
    ")\n",
    "\n",
    "plt.tight_layout()\n",
    "plt.show()"
   ]
  },
  {
   "cell_type": "markdown",
   "id": "063e7481",
   "metadata": {},
   "source": [
    "# Dataset"
   ]
  },
  {
   "cell_type": "code",
   "execution_count": 12,
   "id": "972b483e",
   "metadata": {},
   "outputs": [],
   "source": [
    "SEQ_LEN = 20\n",
    "PRED_LEN = 5\n",
    "STRIDE = 3\n",
    "BATCH = 128"
   ]
  },
  {
   "cell_type": "code",
   "execution_count": 13,
   "id": "a4eb068d",
   "metadata": {},
   "outputs": [],
   "source": [
    "class TrajectoryDataset(Dataset):\n",
    "    \"\"\"\n",
    "    Returns (past_n, fut_n, y0, scale_xyz, origin_lla):\n",
    "      past_n: (seq, 6) -> [x_m,y_m,z_m,vx_ms,vy_ms,climb_ms] / local scales\n",
    "      fut_n: (pred, 3) -> [dx_m,dy_m,dz_m] / local scales\n",
    "      y0: (3,) -> last past position (should be ~0,0,0) in normalized units\n",
    "      scale_xyz: (3,) -> [s_xy, s_xy, s_z] used to denorm meters\n",
    "      origin_lla: (3,) -> [lat0_deg, lon0_deg, alt0_m] of the window origin\n",
    "    \"\"\"\n",
    "    def __init__(self, df, seq_len, pred_len, stride=3, cap_per_flight=None):\n",
    "        self.seq_len, self.pred_len, self.stride = int(seq_len), int(pred_len), int(stride)\n",
    "        self.cap_per_flight = cap_per_flight\n",
    "        self.R = 6_371_000.0\n",
    "\n",
    "        self.groups = {}\n",
    "        self.index = []\n",
    "        for fid, g in df.groupby(\"flight_id\"):\n",
    "            g = g.sort_values(\"time\").reset_index(drop=True)\n",
    "            n = len(g); max_start = n - (self.seq_len + self.pred_len)\n",
    "            if max_start < 0: continue\n",
    "            total = (max_start // self.stride) + 1\n",
    "            if cap_per_flight and total > cap_per_flight: total = cap_per_flight\n",
    "            self.groups[fid] = g\n",
    "            for k in range(total):\n",
    "                self.index.append((fid, int(k*self.stride)))\n",
    "\n",
    "    def __len__(self): return len(self.index)\n",
    "\n",
    "    def __getitem__(self, i):\n",
    "        fid, s = self.index[i]\n",
    "        g = self.groups[fid].iloc[s : s + self.seq_len + self.pred_len].copy()\n",
    "\n",
    "        lat0_deg = float(g.iloc[self.seq_len-1][\"lat\"])\n",
    "        lon0_deg = float(g.iloc[self.seq_len-1][\"lon\"])\n",
    "        alt0_m = float(g.iloc[self.seq_len-1][\"alt\"])\n",
    "        lat0 = math.radians(lat0_deg); lon0 = math.radians(lon0_deg)\n",
    "\n",
    "        R = self.R\n",
    "        lat_r = np.radians(g[\"lat\"].to_numpy())\n",
    "        lon_r = np.radians(g[\"lon\"].to_numpy())\n",
    "        x = (lon_r - lon0) * R * math.cos(lat0)\n",
    "        y = (lat_r - lat0) * R\n",
    "        z = g[\"alt\"].to_numpy() - alt0_m\n",
    "\n",
    "        # controls (m/s)\n",
    "        vx = g[\"vx_ms\"].to_numpy()\n",
    "        vy = g[\"vy_ms\"].to_numpy()\n",
    "        cl = g[\"climb_ms\"].to_numpy()\n",
    "\n",
    "        past = np.stack([\n",
    "            x[:self.seq_len], y[:self.seq_len], z[:self.seq_len],\n",
    "            vx[:self.seq_len], vy[:self.seq_len], cl[:self.seq_len]\n",
    "        ], axis=1).astype(\"float32\")\n",
    "\n",
    "        fut_pos = np.stack([x[self.seq_len:], y[self.seq_len:], z[self.seq_len:]], axis=1).astype(\"float32\")\n",
    "        fut_ctl = np.stack([vx[self.seq_len:], vy[self.seq_len:], cl[self.seq_len:]], axis=1).astype(\"float32\")\n",
    "\n",
    "        # local scales\n",
    "        s_xy = float(max(50.0, 2.0*np.max(np.abs(past[:,0:2]))))\n",
    "        s_z  = float(max(20.0, 2.0*np.max(np.abs(past[:,2]))))\n",
    "        scale6 = np.array([s_xy,s_xy,s_z, 200.0,200.0,10.0], dtype=\"float32\")\n",
    "        scale3 = np.array([s_xy,s_xy,s_z], dtype=\"float32\")\n",
    "        ctl_scale = np.array([200.0,200.0,10.0], dtype=\"float32\")\n",
    "\n",
    "        past_n = past / scale6\n",
    "        fut_pos_n = fut_pos / scale3\n",
    "        fut_ctl_n = fut_ctl / ctl_scale\n",
    "\n",
    "        y0 = past_n[-1, :3]\n",
    "        origin_lla = np.array([lat0_deg, lon0_deg, alt0_m], dtype=\"float32\")\n",
    "\n",
    "        return (torch.from_numpy(past_n),\n",
    "                torch.from_numpy(fut_pos_n),\n",
    "                torch.from_numpy(fut_ctl_n),\n",
    "                torch.from_numpy(y0),\n",
    "                torch.from_numpy(scale3),\n",
    "                torch.from_numpy(origin_lla))"
   ]
  },
  {
   "cell_type": "code",
   "execution_count": 14,
   "id": "aed40ffb",
   "metadata": {},
   "outputs": [
    {
     "name": "stdout",
     "output_type": "stream",
     "text": [
      "windows: 225132 43804 45382\n"
     ]
    }
   ],
   "source": [
    "# dataloaders \n",
    "pin_mem = (device.type == \"cuda\")\n",
    "train_ds = TrajectoryDataset(train_df, SEQ_LEN, PRED_LEN, STRIDE, cap_per_flight=800)\n",
    "val_ds = TrajectoryDataset(val_df,   SEQ_LEN, PRED_LEN, STRIDE, cap_per_flight=400)\n",
    "test_ds = TrajectoryDataset(test_df,  SEQ_LEN, PRED_LEN, STRIDE, cap_per_flight=400)\n",
    "\n",
    "train_loader = DataLoader(train_ds, batch_size=BATCH, shuffle=True,  num_workers=0, pin_memory=pin_mem)\n",
    "val_loader = DataLoader(val_ds,   batch_size=BATCH, shuffle=False, num_workers=0, pin_memory=pin_mem)\n",
    "test_loader = DataLoader(test_ds,  batch_size=1,    shuffle=True,   num_workers=0)\n",
    "print(\"windows:\", len(train_ds), len(val_ds), len(test_ds))"
   ]
  },
  {
   "cell_type": "markdown",
   "id": "14fcc601",
   "metadata": {},
   "source": [
    "# model "
   ]
  },
  {
   "cell_type": "code",
   "execution_count": 15,
   "id": "5b4ab6c6",
   "metadata": {},
   "outputs": [
    {
     "name": "stdout",
     "output_type": "stream",
     "text": [
      "Params: 833539\n"
     ]
    }
   ],
   "source": [
    "IN_SIZE = 6 # [x,y,z,vx,vy,climb]\n",
    "OUT_SIZE = 3 # position deltas\n",
    "CTL_SIZE = 3 # [vx,vy,climb]\n",
    "\n",
    "class TrajectoryPredictor(nn.Module):\n",
    "    def __init__(self, in_size=IN_SIZE, out_size=OUT_SIZE, ctl_size=CTL_SIZE,\n",
    "                 hidden=256, layers=2, drop=0.1):\n",
    "        super().__init__()\n",
    "        self.encoder = nn.GRU(in_size, hidden, layers, batch_first=True,\n",
    "                               dropout=drop if layers>1 else 0.0)\n",
    "        self.dec_cell = nn.GRUCell(out_size + ctl_size, hidden)\n",
    "        self.head = nn.Sequential(nn.Linear(hidden, 128), nn.ReLU(), nn.Linear(128, out_size))\n",
    "\n",
    "    def forward(self, x, y0, u, pred_len, teacher=None):\n",
    "        \"\"\"\n",
    "        x: (B,seq,6), y0: (B,3) last past pos (norm), \n",
    "        u: (B,pred,3) future controls (norm),\n",
    "        teacher: (B,pred,3) future true pos (norm) or None\n",
    "        \"\"\"\n",
    "        _, h = self.encoder(x); h = h[-1]\n",
    "        y_t = y0\n",
    "        outs = []\n",
    "        for t in range(pred_len):\n",
    "            u_t = u[:, t]                          # controls for this step\n",
    "            inp = torch.cat([y_t, u_t], dim=-1)    # [pos, controls]\n",
    "            h = self.dec_cell(inp, h)\n",
    "            y_hat = self.head(h)\n",
    "            outs.append(y_hat.unsqueeze(1))\n",
    "            y_t = teacher[:, t] if (teacher is not None) else y_hat\n",
    "        return torch.cat(outs, dim=1)\n",
    "\n",
    "model = TrajectoryPredictor().to(device)\n",
    "print(\"Params:\", sum(p.numel() for p in model.parameters()))"
   ]
  },
  {
   "cell_type": "markdown",
   "id": "e81f22ce",
   "metadata": {},
   "source": [
    "# Loss/Metrics "
   ]
  },
  {
   "cell_type": "code",
   "execution_count": 16,
   "id": "daee2b11",
   "metadata": {},
   "outputs": [],
   "source": [
    "def meters_mse(pred_n, true_n, scale_xyz):\n",
    "    # pred_n, true_n: (B,T,3) normalized; scale_xyz: (B,3)\n",
    "    pred = pred_n * scale_xyz.unsqueeze(1)\n",
    "    true = true_n * scale_xyz.unsqueeze(1)\n",
    "    return ((pred - true) ** 2).mean()\n",
    "\n",
    "def run_epoch(loader, train=True, tf_ratio=0.6):\n",
    "    model.train(mode=train)\n",
    "    total = 0.0; n = 0\n",
    "    for batch in loader:\n",
    "        # NEW: unpack 6 items (controls included)\n",
    "        past, fut_pos, fut_ctl, y0, scale, origin = batch\n",
    "        past = past.to(device)\n",
    "        fut_pos = fut_pos.to(device)\n",
    "        fut_ctl = fut_ctl.to(device)\n",
    "        y0 = y0.to(device)\n",
    "        scale = scale.to(device)\n",
    "\n",
    "        teacher = fut_pos if (train and np.random.rand() < tf_ratio) else None\n",
    "\n",
    "        # use torch.amp.autocast with device_type='cuda'\n",
    "        with torch.amp.autocast('cuda', enabled=(device.type == \"cuda\")):\n",
    "            pred = model(past, y0, fut_ctl, pred_len=fut_pos.size(1), teacher=teacher)\n",
    "            loss = meters_mse(pred, fut_pos, scale)\n",
    "\n",
    "        if train:\n",
    "            optimizer.zero_grad(set_to_none=True)\n",
    "            scaler.scale(loss).backward()\n",
    "            torch.nn.utils.clip_grad_norm_(model.parameters(), 1.0)\n",
    "            scaler.step(optimizer); scaler.update()\n",
    "\n",
    "        total += loss.item() * past.size(0); n += past.size(0)\n",
    "    return total / max(n, 1)"
   ]
  },
  {
   "cell_type": "markdown",
   "id": "15f5fcff",
   "metadata": {},
   "source": [
    "# Train"
   ]
  },
  {
   "cell_type": "code",
   "execution_count": 17,
   "id": "a32522ca",
   "metadata": {},
   "outputs": [
    {
     "name": "stderr",
     "output_type": "stream",
     "text": [
      "C:\\Users\\flyin\\AppData\\Local\\Temp\\ipykernel_57948\\803380076.py:3: FutureWarning: `torch.cuda.amp.GradScaler(args...)` is deprecated. Please use `torch.amp.GradScaler('cuda', args...)` instead.\n",
      "  scaler = torch.cuda.amp.GradScaler(enabled=(device.type == \"cuda\"))\n"
     ]
    }
   ],
   "source": [
    "optimizer = torch.optim.AdamW(model.parameters(), lr=1e-3, weight_decay=1e-4)\n",
    "scheduler = torch.optim.lr_scheduler.ReduceLROnPlateau(optimizer, patience=2, factor=0.5)\n",
    "scaler = torch.cuda.amp.GradScaler(enabled=(device.type == \"cuda\"))"
   ]
  },
  {
   "cell_type": "code",
   "execution_count": 18,
   "id": "f7cef552",
   "metadata": {},
   "outputs": [],
   "source": [
    "def run_epoch(loader, train=True, tf_ratio=0.6):\n",
    "    model.train(mode=train)\n",
    "    total = 0.0; n = 0\n",
    "    for batch in loader:\n",
    "        past, fut_pos, fut_ctl, y0, scale, origin = batch\n",
    "        past, fut_pos, fut_ctl, y0, scale = past.to(device), fut_pos.to(device), fut_ctl.to(device), y0.to(device), scale.to(device)\n",
    "        teacher = fut_pos if (train and np.random.rand() < tf_ratio) else None\n",
    "        with torch.cuda.amp.autocast(enabled=(device.type==\"cuda\")):\n",
    "            pred = model(past, y0, fut_ctl, pred_len=fut_pos.size(1), teacher=teacher)\n",
    "            loss = meters_mse(pred, fut_pos, scale)   # same meters loss\n",
    "        if train:\n",
    "            optimizer.zero_grad(set_to_none=True)\n",
    "            scaler.scale(loss).backward()\n",
    "            torch.nn.utils.clip_grad_norm_(model.parameters(), 1.0)\n",
    "            scaler.step(optimizer); scaler.update()\n",
    "        total += loss.item()*past.size(0); n += past.size(0)\n",
    "    return total/max(n,1)"
   ]
  },
  {
   "cell_type": "code",
   "execution_count": 32,
   "id": "214d8bc3",
   "metadata": {},
   "outputs": [],
   "source": [
    "EPOCHS = 20\n",
    "BEST = float(\"inf\")\n",
    "os.makedirs(\"models\", exist_ok=True)"
   ]
  },
  {
   "cell_type": "code",
   "execution_count": null,
   "id": "0402f9da",
   "metadata": {},
   "outputs": [
    {
     "name": "stderr",
     "output_type": "stream",
     "text": [
      "C:\\Users\\flyin\\AppData\\Local\\Temp\\ipykernel_27720\\2731118268.py:8: FutureWarning: `torch.cuda.amp.autocast(args...)` is deprecated. Please use `torch.amp.autocast('cuda', args...)` instead.\n",
      "  with torch.cuda.amp.autocast(enabled=(device.type==\"cuda\")):\n"
     ]
    },
    {
     "name": "stdout",
     "output_type": "stream",
     "text": [
      "ep 01 | tf=0.80 | train 4787.61692 | val 2307.92894 | ~88 m\n",
      "  -> saved best\n",
      "ep 02 | tf=0.76 | train 2315.13598 | val 7423.31288 | ~139 m\n",
      "ep 03 | tf=0.72 | train 2665.05833 | val 1870.90172 | ~54 m\n",
      "  -> saved best\n",
      "ep 04 | tf=0.68 | train 2025.68322 | val 3250.40523 | ~53 m\n",
      "ep 05 | tf=0.64 | train 1792.24422 | val 2538.83084 | ~45 m\n",
      "ep 06 | tf=0.60 | train 1987.47213 | val 1025.56003 | ~40 m\n",
      "  -> saved best\n",
      "ep 07 | tf=0.56 | train 1172.06474 | val 1884.54128 | ~82 m\n",
      "ep 08 | tf=0.52 | train 1024.04113 | val 1378.30105 | ~49 m\n",
      "ep 09 | tf=0.48 | train 1737.77306 | val 1585.13186 | ~44 m\n",
      "ep 10 | tf=0.44 | train 772.50038 | val 707.77016 | ~21 m\n",
      "  -> saved best\n",
      "ep 11 | tf=0.40 | train 694.28159 | val 824.71344 | ~26 m\n",
      "ep 12 | tf=0.36 | train 851.14320 | val 746.55926 | ~31 m\n",
      "ep 13 | tf=0.32 | train 809.81080 | val 1482.92272 | ~67 m\n",
      "ep 14 | tf=0.28 | train 613.23103 | val 584.89687 | ~18 m\n",
      "  -> saved best\n",
      "ep 15 | tf=0.24 | train 612.65819 | val 692.07659 | ~26 m\n",
      "ep 16 | tf=0.20 | train 627.34839 | val 795.44163 | ~36 m\n",
      "ep 17 | tf=0.16 | train 688.25156 | val 697.44150 | ~26 m\n",
      "ep 18 | tf=0.12 | train 565.71173 | val 540.56439 | ~16 m\n",
      "  -> saved best\n",
      "ep 19 | tf=0.10 | train 559.26672 | val 593.77725 | ~18 m\n",
      "ep 20 | tf=0.10 | train 567.66414 | val 599.79190 | ~27 m\n"
     ]
    }
   ],
   "source": [
    "for ep in range(1, EPOCHS + 1):\n",
    "    tf = max(0.1, 0.8 * (1 - (ep - 1) / EPOCHS))\n",
    "    tr = run_epoch(train_loader, True,  tf_ratio=tf)\n",
    "    va = run_epoch(val_loader,   False, tf_ratio=0.0)\n",
    "\n",
    "    # quick val meter (great-circle error in meters across horizon)\n",
    "    with torch.no_grad():\n",
    "        past, fut_pos, fut_ctl, y0, scale, origin = next(iter(val_loader))\n",
    "        past = past.to(device)\n",
    "        fut_pos = fut_pos.to(device)\n",
    "        fut_ctl = fut_ctl.to(device)\n",
    "        y0 = y0.to(device)\n",
    "        scale = scale.to(device)\n",
    "\n",
    "        pred = model(past, y0, fut_ctl, pred_len=fut_pos.size(1))\n",
    "\n",
    "        # denorm to meters\n",
    "        pred_m = pred    * scale.unsqueeze(1)   # (B,T,3)\n",
    "        true_m = fut_pos * scale.unsqueeze(1)   # (B,T,3)\n",
    "\n",
    "        # convert meters -> lat/lon (radians) around origin for haversine\n",
    "        R = 6_371_000.0\n",
    "        lat0 = torch.deg2rad(origin[:,0].to(device)).unsqueeze(1)  # (B,1)\n",
    "        lon0 = torch.deg2rad(origin[:,1].to(device)).unsqueeze(1)  # (B,1)\n",
    "        cos_lat0 = torch.cos(lat0)\n",
    "\n",
    "        t_lat = lat0 + true_m[...,1] / R\n",
    "        t_lon = lon0 + true_m[...,0] / (R * cos_lat0)\n",
    "        p_lat = lat0 + pred_m[...,1] / R\n",
    "        p_lon = lon0 + pred_m[...,0] / (R * cos_lat0)\n",
    "\n",
    "        dlat = p_lat - t_lat\n",
    "        dlon = p_lon - t_lon\n",
    "        a = torch.sin(dlat/2)**2 + torch.cos(t_lat)*torch.cos(p_lat)*torch.sin(dlon/2)**2\n",
    "        d = 2*R*torch.arcsin(torch.sqrt(torch.clamp(a, 0, 1)))\n",
    "        meter = d.mean().item()\n",
    "\n",
    "    scheduler.step(va)\n",
    "    print(f\"ep {ep:02d} | tf={tf:.2f} | train {tr:.5f} | val {va:.5f} | ~{meter:.0f} m\")\n",
    "\n",
    "    if va < BEST:\n",
    "        BEST = va\n",
    "        torch.save(model.state_dict(), \"models/best.pt\")\n",
    "        print(\"  -> saved best\")"
   ]
  },
  {
   "cell_type": "markdown",
   "id": "239323d3",
   "metadata": {},
   "source": [
    "# Eval + Plot Sample"
   ]
  },
  {
   "cell_type": "code",
   "execution_count": 19,
   "id": "e5b8540d",
   "metadata": {},
   "outputs": [
    {
     "name": "stdout",
     "output_type": "stream",
     "text": [
      "Loaded best.\n"
     ]
    },
    {
     "data": {
      "image/png": "[encoded data removed]",
      "text/plain": [
       "<Figure size 900x500 with 1 Axes>"
      ]
     },
     "metadata": {},
     "output_type": "display_data"
    },
    {
     "name": "stdout",
     "output_type": "stream",
     "text": [
      "sample mean error ≈ 10.6 m\n"
     ]
    }
   ],
   "source": [
    "model.load_state_dict(torch.load(\"models/best.pt\", map_location=device))\n",
    "model.eval()\n",
    "print(\"Loaded best.\")\n",
    "\n",
    "with torch.no_grad():\n",
    "    # get one sample from test_loader \n",
    "    past, fut_pos, fut_ctl, y0, scale, origin = next(iter(test_loader))\n",
    "    past = past.to(device)         \n",
    "    fut_pos = fut_pos.to(device)      \n",
    "    fut_ctl = fut_ctl.to(device)     \n",
    "    y0 = y0.to(device)           \n",
    "    scale = scale.to(device)        \n",
    "\n",
    "    # predict\n",
    "    pred = model(past, y0, fut_ctl, pred_len=fut_pos.size(1))\n",
    "\n",
    "    # denorm to m \n",
    "    pred_m = (pred    * scale.unsqueeze(1))[0].cpu().numpy()  \n",
    "    true_m = (fut_pos * scale.unsqueeze(1))[0].cpu().numpy()  \n",
    "\n",
    "    # convert m → lat/lon\n",
    "    R = 6_371_000.0\n",
    "    lat0 = float(origin[0,0]); lon0 = float(origin[0,1])\n",
    "    lat0r = np.radians(lat0); lon0r = np.radians(lon0)\n",
    "\n",
    "    t_lat = lat0r + true_m[:,1] / R\n",
    "    t_lon = lon0r + true_m[:,0] / (R * np.cos(lat0r))\n",
    "    p_lat = lat0r + pred_m[:,1] / R\n",
    "    p_lon = lon0r + pred_m[:,0] / (R * np.cos(lat0r))\n",
    "\n",
    "    t_lat_deg = np.degrees(t_lat); t_lon_deg = np.degrees(t_lon)\n",
    "    p_lat_deg = np.degrees(p_lat); p_lon_deg = np.degrees(p_lon)\n",
    "\n",
    "    # plot\n",
    "    plt.figure(figsize=(9,5))\n",
    "    plt.plot(t_lon_deg, t_lat_deg, 'g^-', label=\"true next\")\n",
    "    plt.plot(p_lon_deg, p_lat_deg, 'r^-', label=\"pred next\")\n",
    "    plt.xlabel(\"lon\"); plt.ylabel(\"lat\"); plt.title(\"Next steps (sample)\")\n",
    "    plt.grid(True); plt.legend(); plt.tight_layout(); plt.show()\n",
    "\n",
    "    # mean geodesic error in m\n",
    "    dlat = p_lat - t_lat\n",
    "    dlon = p_lon - t_lon\n",
    "    a = np.sin(dlat/2)**2 + np.cos(t_lat)*np.cos(p_lat)*np.sin(dlon/2)**2\n",
    "    d = 2*R*np.arcsin(np.sqrt(np.clip(a, 0, 1)))\n",
    "    print(f\"sample mean error ≈ {d.mean():.1f} m\")"
   ]
  },
  {
   "cell_type": "code",
   "execution_count": null,
   "id": "25a247fc",
   "metadata": {},
   "outputs": [
    {
     "data": {
      "application/vnd.plotly.v1+json": {
       "config": {
        "plotlyServerURL": "https://plot.ly"
       },
       "data": [
        {
         "line": {
          "width": 6
         },
         "marker": {
          "size": 3
         },
         "mode": "lines+markers",
         "name": "true (lon,lat,alt)",
         "scene": "scene",
         "type": "scatter3d",
         "x": {
          "bdata": "Ar7/A8M5MkCKZgDY/jgyQD+fABAiODJA8T8AwjQ3MkCGDgFKRDYyQA==",
          "dtype": "f8"
         },
         "y": {
          "bdata": "jJgA8wfcTUAVy/8hydxNQKYgAhyD3U1ATCv9YTzeTUDb/Pu19t5NQA==",
          "dtype": "f8"
         },
         "z": {
          "bdata": "AABXQgAAVEIAAE5CAABKQgAARkI=",
          "dtype": "f4"
         }
        },
        {
         "line": {
          "width": 6
         },
         "marker": {
          "size": 3
         },
         "mode": "lines+markers",
         "name": "pred (lon,lat,alt)",
         "scene": "scene",
         "type": "scatter3d",
         "x": {
          "bdata": "Mw/aVrk5MkBB2ylm9jgyQK8AON0WODJAHlCt3jI3MkCrf9tEQTYyQA==",
          "dtype": "f8"
         },
         "y": {
          "bdata": "r6rEBAXcTUCx/q9xxtxNQPOwuOWB3U1A3c3DcDneTUBVGDB89N5NQA==",
          "dtype": "f8"
         },
         "z": {
          "bdata": "8NpZQmBWWUIos1hCffFXQnHuV0I=",
          "dtype": "f4"
         }
        },
        {
         "marker": {
          "color": "black",
          "size": 10,
          "symbol": "diamond"
         },
         "mode": "markers+text",
         "name": "origin (lon0,lat0,alt0)",
         "scene": "scene",
         "text": [
          "origin"
         ],
         "textposition": "top center",
         "type": "scatter3d",
         "x": [
          18.229183197021484
         ],
         "y": [
          59.71316146850586
         ],
         "z": [
          54.75
         ]
        },
        {
         "line": {
          "dash": "dot",
          "width": 2
         },
         "mode": "lines",
         "scene": "scene",
         "showlegend": false,
         "type": "scatter3d",
         "x": [
          18.229183197021484,
          18.225631952225747
         ],
         "y": [
          59.71316146850586,
          59.71899259118172
         ],
         "z": [
          54.75,
          53.75
         ]
        },
        {
         "line": {
          "dash": "dot",
          "width": 2
         },
         "mode": "lines",
         "scene": "scene",
         "showlegend": false,
         "type": "scatter3d",
         "x": [
          18.229183197021484,
          18.225484302746917
         ],
         "y": [
          59.71316146850586,
          59.71890315630787
         ],
         "z": [
          54.75,
          54.46380615234375
         ]
        },
        {
         "marker": {
          "size": 9,
          "symbol": "diamond-open"
         },
         "mode": "markers",
         "name": "true final",
         "scene": "scene",
         "type": "scatter3d",
         "x": [
          18.211979508646003
         ],
         "y": [
          59.74190401844108
         ],
         "z": [
          49.5
         ]
        },
        {
         "marker": {
          "size": 9,
          "symbol": "square"
         },
         "mode": "markers",
         "name": "pred final",
         "scene": "scene",
         "type": "scatter3d",
         "x": [
          18.21193342551093
         ],
         "y": [
          59.741836093410406
         ],
         "z": [
          53.982852935791016
         ]
        },
        {
         "line": {
          "dash": "dash",
          "width": 4
         },
         "mode": "lines",
         "name": "final err ≈ 9.2 m",
         "scene": "scene",
         "type": "scatter3d",
         "x": [
          18.211979508646003,
          18.21193342551093
         ],
         "y": [
          59.74190401844108,
          59.741836093410406
         ],
         "z": [
          49.5,
          53.982852935791016
         ]
        },
        {
         "line": {
          "width": 3
         },
         "mode": "lines+markers",
         "name": "true (alt vs lon)",
         "type": "scatter",
         "x": {
          "bdata": "Ar7/A8M5MkCKZgDY/jgyQD+fABAiODJA8T8AwjQ3MkCGDgFKRDYyQA==",
          "dtype": "f8"
         },
         "xaxis": "x",
         "y": {
          "bdata": "AABXQgAAVEIAAE5CAABKQgAARkI=",
          "dtype": "f4"
         },
         "yaxis": "y"
        },
        {
         "line": {
          "width": 3
         },
         "mode": "lines+markers",
         "name": "pred (alt vs lon)",
         "type": "scatter",
         "x": {
          "bdata": "Mw/aVrk5MkBB2ylm9jgyQK8AON0WODJAHlCt3jI3MkCrf9tEQTYyQA==",
          "dtype": "f8"
         },
         "xaxis": "x",
         "y": {
          "bdata": "8NpZQmBWWUIos1hCffFXQnHuV0I=",
          "dtype": "f4"
         },
         "yaxis": "y"
        },
        {
         "line": {
          "dash": "dot",
          "width": 2
         },
         "mode": "lines",
         "showlegend": false,
         "type": "scatter",
         "x": [
          18.229183197021484,
          18.225631952225747
         ],
         "xaxis": "x",
         "y": [
          54.75,
          53.75
         ],
         "yaxis": "y"
        },
        {
         "line": {
          "dash": "dot",
          "width": 2
         },
         "mode": "lines",
         "showlegend": false,
         "type": "scatter",
         "x": [
          18.229183197021484,
          18.225484302746917
         ],
         "xaxis": "x",
         "y": [
          54.75,
          54.46380615234375
         ],
         "yaxis": "y"
        },
        {
         "marker": {
          "size": 10,
          "symbol": "diamond"
         },
         "mode": "markers+text",
         "name": "origin (alt vs lon)",
         "text": [
          "origin"
         ],
         "textposition": "top center",
         "type": "scatter",
         "x": [
          18.229183197021484
         ],
         "xaxis": "x",
         "y": [
          54.75
         ],
         "yaxis": "y"
        }
       ],
       "layout": {
        "height": 820,
        "legend": {
         "bgcolor": "rgba(255,255,255,0.6)"
        },
        "margin": {
         "b": 10,
         "l": 10,
         "r": 10,
         "t": 60
        },
        "scene": {
         "aspectmode": "manual",
         "aspectratio": {
          "x": 2,
          "y": 2,
          "z": 1.2
         },
         "camera": {
          "eye": {
           "x": 1.6,
           "y": -1.5,
           "z": 1.2
          }
         },
         "domain": {
          "x": [
           0,
           1
          ],
          "y": [
           0.402,
           1
          ]
         },
         "xaxis": {
          "gridcolor": "lightgray",
          "range": [
           18.191933425510932,
           18.249183197021484
          ],
          "showbackground": false,
          "title": {
           "text": "longitude (°)"
          }
         },
         "yaxis": {
          "gridcolor": "lightgray",
          "range": [
           59.693161468505856,
           59.761904018441086
          ],
          "showbackground": false,
          "title": {
           "text": "latitude (°)"
          }
         },
         "zaxis": {
          "gridcolor": "lightgray",
          "range": [
           -0.5,
           104.75
          ],
          "showbackground": false,
          "title": {
           "text": "altitude (m)"
          }
         }
        },
        "template": {
         "data": {
          "bar": [
           {
            "error_x": {
             "color": "#2a3f5f"
            },
            "error_y": {
             "color": "#2a3f5f"
            },
            "marker": {
             "line": {
              "color": "#E5ECF6",
              "width": 0.5
             },
             "pattern": {
              "fillmode": "overlay",
              "size": 10,
              "solidity": 0.2
             }
            },
            "type": "bar"
           }
          ],
          "barpolar": [
           {
            "marker": {
             "line": {
              "color": "#E5ECF6",
              "width": 0.5
             },
             "pattern": {
              "fillmode": "overlay",
              "size": 10,
              "solidity": 0.2
             }
            },
            "type": "barpolar"
           }
          ],
          "carpet": [
           {
            "aaxis": {
             "endlinecolor": "#2a3f5f",
             "gridcolor": "white",
             "linecolor": "white",
             "minorgridcolor": "white",
             "startlinecolor": "#2a3f5f"
            },
            "baxis": {
             "endlinecolor": "#2a3f5f",
             "gridcolor": "white",
             "linecolor": "white",
             "minorgridcolor": "white",
             "startlinecolor": "#2a3f5f"
            },
            "type": "carpet"
           }
          ],
          "choropleth": [
           {
            "colorbar": {
             "outlinewidth": 0,
             "ticks": ""
            },
            "type": "choropleth"
           }
          ],
          "contour": [
           {
            "colorbar": {
             "outlinewidth": 0,
             "ticks": ""
            },
            "colorscale": [
             [
              0,
              "#0d0887"
             ],
             [
              0.1111111111111111,
              "#46039f"
             ],
             [
              0.2222222222222222,
              "#7201a8"
             ],
             [
              0.3333333333333333,
              "#9c179e"
             ],
             [
              0.4444444444444444,
              "#bd3786"
             ],
             [
              0.5555555555555556,
              "#d8576b"
             ],
             [
              0.6666666666666666,
              "#ed7953"
             ],
             [
              0.7777777777777778,
              "#fb9f3a"
             ],
             [
              0.8888888888888888,
              "#fdca26"
             ],
             [
              1,
              "#f0f921"
             ]
            ],
            "type": "contour"
           }
          ],
          "contourcarpet": [
           {
            "colorbar": {
             "outlinewidth": 0,
             "ticks": ""
            },
            "type": "contourcarpet"
           }
          ],
          "heatmap": [
           {
            "colorbar": {
             "outlinewidth": 0,
             "ticks": ""
            },
            "colorscale": [
             [
              0,
              "#0d0887"
             ],
             [
              0.1111111111111111,
              "#46039f"
             ],
             [
              0.2222222222222222,
              "#7201a8"
             ],
             [
              0.3333333333333333,
              "#9c179e"
             ],
             [
              0.4444444444444444,
              "#bd3786"
             ],
             [
              0.5555555555555556,
              "#d8576b"
             ],
             [
              0.6666666666666666,
              "#ed7953"
             ],
             [
              0.7777777777777778,
              "#fb9f3a"
             ],
             [
              0.8888888888888888,
              "#fdca26"
             ],
             [
              1,
              "#f0f921"
             ]
            ],
            "type": "heatmap"
           }
          ],
          "histogram": [
           {
            "marker": {
             "pattern": {
              "fillmode": "overlay",
              "size": 10,
              "solidity": 0.2
             }
            },
            "type": "histogram"
           }
          ],
          "histogram2d": [
           {
            "colorbar": {
             "outlinewidth": 0,
             "ticks": ""
            },
            "colorscale": [
             [
              0,
              "#0d0887"
             ],
             [
              0.1111111111111111,
              "#46039f"
             ],
             [
              0.2222222222222222,
              "#7201a8"
             ],
             [
              0.3333333333333333,
              "#9c179e"
             ],
             [
              0.4444444444444444,
              "#bd3786"
             ],
             [
              0.5555555555555556,
              "#d8576b"
             ],
             [
              0.6666666666666666,
              "#ed7953"
             ],
             [
              0.7777777777777778,
              "#fb9f3a"
             ],
             [
              0.8888888888888888,
              "#fdca26"
             ],
             [
              1,
              "#f0f921"
             ]
            ],
            "type": "histogram2d"
           }
          ],
          "histogram2dcontour": [
           {
            "colorbar": {
             "outlinewidth": 0,
             "ticks": ""
            },
            "colorscale": [
             [
              0,
              "#0d0887"
             ],
             [
              0.1111111111111111,
              "#46039f"
             ],
             [
              0.2222222222222222,
              "#7201a8"
             ],
             [
              0.3333333333333333,
              "#9c179e"
             ],
             [
              0.4444444444444444,
              "#bd3786"
             ],
             [
              0.5555555555555556,
              "#d8576b"
             ],
             [
              0.6666666666666666,
              "#ed7953"
             ],
             [
              0.7777777777777778,
              "#fb9f3a"
             ],
             [
              0.8888888888888888,
              "#fdca26"
             ],
             [
              1,
              "#f0f921"
             ]
            ],
            "type": "histogram2dcontour"
           }
          ],
          "mesh3d": [
           {
            "colorbar": {
             "outlinewidth": 0,
             "ticks": ""
            },
            "type": "mesh3d"
           }
          ],
          "parcoords": [
           {
            "line": {
             "colorbar": {
              "outlinewidth": 0,
              "ticks": ""
             }
            },
            "type": "parcoords"
           }
          ],
          "pie": [
           {
            "automargin": true,
            "type": "pie"
           }
          ],
          "scatter": [
           {
            "fillpattern": {
             "fillmode": "overlay",
             "size": 10,
             "solidity": 0.2
            },
            "type": "scatter"
           }
          ],
          "scatter3d": [
           {
            "line": {
             "colorbar": {
              "outlinewidth": 0,
              "ticks": ""
             }
            },
            "marker": {
             "colorbar": {
              "outlinewidth": 0,
              "ticks": ""
             }
            },
            "type": "scatter3d"
           }
          ],
          "scattercarpet": [
           {
            "marker": {
             "colorbar": {
              "outlinewidth": 0,
              "ticks": ""
             }
            },
            "type": "scattercarpet"
           }
          ],
          "scattergeo": [
           {
            "marker": {
             "colorbar": {
              "outlinewidth": 0,
              "ticks": ""
             }
            },
            "type": "scattergeo"
           }
          ],
          "scattergl": [
           {
            "marker": {
             "colorbar": {
              "outlinewidth": 0,
              "ticks": ""
             }
            },
            "type": "scattergl"
           }
          ],
          "scattermap": [
           {
            "marker": {
             "colorbar": {
              "outlinewidth": 0,
              "ticks": ""
             }
            },
            "type": "scattermap"
           }
          ],
          "scattermapbox": [
           {
            "marker": {
             "colorbar": {
              "outlinewidth": 0,
              "ticks": ""
             }
            },
            "type": "scattermapbox"
           }
          ],
          "scatterpolar": [
           {
            "marker": {
             "colorbar": {
              "outlinewidth": 0,
              "ticks": ""
             }
            },
            "type": "scatterpolar"
           }
          ],
          "scatterpolargl": [
           {
            "marker": {
             "colorbar": {
              "outlinewidth": 0,
              "ticks": ""
             }
            },
            "type": "scatterpolargl"
           }
          ],
          "scatterternary": [
           {
            "marker": {
             "colorbar": {
              "outlinewidth": 0,
              "ticks": ""
             }
            },
            "type": "scatterternary"
           }
          ],
          "surface": [
           {
            "colorbar": {
             "outlinewidth": 0,
             "ticks": ""
            },
            "colorscale": [
             [
              0,
              "#0d0887"
             ],
             [
              0.1111111111111111,
              "#46039f"
             ],
             [
              0.2222222222222222,
              "#7201a8"
             ],
             [
              0.3333333333333333,
              "#9c179e"
             ],
             [
              0.4444444444444444,
              "#bd3786"
             ],
             [
              0.5555555555555556,
              "#d8576b"
             ],
             [
              0.6666666666666666,
              "#ed7953"
             ],
             [
              0.7777777777777778,
              "#fb9f3a"
             ],
             [
              0.8888888888888888,
              "#fdca26"
             ],
             [
              1,
              "#f0f921"
             ]
            ],
            "type": "surface"
           }
          ],
          "table": [
           {
            "cells": {
             "fill": {
              "color": "#EBF0F8"
             },
             "line": {
              "color": "white"
             }
            },
            "header": {
             "fill": {
              "color": "#C8D4E3"
             },
             "line": {
              "color": "white"
             }
            },
            "type": "table"
           }
          ]
         },
         "layout": {
          "annotationdefaults": {
           "arrowcolor": "#2a3f5f",
           "arrowhead": 0,
           "arrowwidth": 1
          },
          "autotypenumbers": "strict",
          "coloraxis": {
           "colorbar": {
            "outlinewidth": 0,
            "ticks": ""
           }
          },
          "colorscale": {
           "diverging": [
            [
             0,
             "#8e0152"
            ],
            [
             0.1,
             "#c51b7d"
            ],
            [
             0.2,
             "#de77ae"
            ],
            [
             0.3,
             "#f1b6da"
            ],
            [
             0.4,
             "#fde0ef"
            ],
            [
             0.5,
             "#f7f7f7"
            ],
            [
             0.6,
             "#e6f5d0"
            ],
            [
             0.7,
             "#b8e186"
            ],
            [
             0.8,
             "#7fbc41"
            ],
            [
             0.9,
             "#4d9221"
            ],
            [
             1,
             "#276419"
            ]
           ],
           "sequential": [
            [
             0,
             "#0d0887"
            ],
            [
             0.1111111111111111,
             "#46039f"
            ],
            [
             0.2222222222222222,
             "#7201a8"
            ],
            [
             0.3333333333333333,
             "#9c179e"
            ],
            [
             0.4444444444444444,
             "#bd3786"
            ],
            [
             0.5555555555555556,
             "#d8576b"
            ],
            [
             0.6666666666666666,
             "#ed7953"
            ],
            [
             0.7777777777777778,
             "#fb9f3a"
            ],
            [
             0.8888888888888888,
             "#fdca26"
            ],
            [
             1,
             "#f0f921"
            ]
           ],
           "sequentialminus": [
            [
             0,
             "#0d0887"
            ],
            [
             0.1111111111111111,
             "#46039f"
            ],
            [
             0.2222222222222222,
             "#7201a8"
            ],
            [
             0.3333333333333333,
             "#9c179e"
            ],
            [
             0.4444444444444444,
             "#bd3786"
            ],
            [
             0.5555555555555556,
             "#d8576b"
            ],
            [
             0.6666666666666666,
             "#ed7953"
            ],
            [
             0.7777777777777778,
             "#fb9f3a"
            ],
            [
             0.8888888888888888,
             "#fdca26"
            ],
            [
             1,
             "#f0f921"
            ]
           ]
          },
          "colorway": [
           "#636efa",
           "#EF553B",
           "#00cc96",
           "#ab63fa",
           "#FFA15A",
           "#19d3f3",
           "#FF6692",
           "#B6E880",
           "#FF97FF",
           "#FECB52"
          ],
          "font": {
           "color": "#2a3f5f"
          },
          "geo": {
           "bgcolor": "white",
           "lakecolor": "white",
           "landcolor": "#E5ECF6",
           "showlakes": true,
           "showland": true,
           "subunitcolor": "white"
          },
          "hoverlabel": {
           "align": "left"
          },
          "hovermode": "closest",
          "mapbox": {
           "style": "light"
          },
          "paper_bgcolor": "white",
          "plot_bgcolor": "#E5ECF6",
          "polar": {
           "angularaxis": {
            "gridcolor": "white",
            "linecolor": "white",
            "ticks": ""
           },
           "bgcolor": "#E5ECF6",
           "radialaxis": {
            "gridcolor": "white",
            "linecolor": "white",
            "ticks": ""
           }
          },
          "scene": {
           "xaxis": {
            "backgroundcolor": "#E5ECF6",
            "gridcolor": "white",
            "gridwidth": 2,
            "linecolor": "white",
            "showbackground": true,
            "ticks": "",
            "zerolinecolor": "white"
           },
           "yaxis": {
            "backgroundcolor": "#E5ECF6",
            "gridcolor": "white",
            "gridwidth": 2,
            "linecolor": "white",
            "showbackground": true,
            "ticks": "",
            "zerolinecolor": "white"
           },
           "zaxis": {
            "backgroundcolor": "#E5ECF6",
            "gridcolor": "white",
            "gridwidth": 2,
            "linecolor": "white",
            "showbackground": true,
            "ticks": "",
            "zerolinecolor": "white"
           }
          },
          "shapedefaults": {
           "line": {
            "color": "#2a3f5f"
           }
          },
          "ternary": {
           "aaxis": {
            "gridcolor": "white",
            "linecolor": "white",
            "ticks": ""
           },
           "baxis": {
            "gridcolor": "white",
            "linecolor": "white",
            "ticks": ""
           },
           "bgcolor": "#E5ECF6",
           "caxis": {
            "gridcolor": "white",
            "linecolor": "white",
            "ticks": ""
           }
          },
          "title": {
           "x": 0.05
          },
          "xaxis": {
           "automargin": true,
           "gridcolor": "white",
           "linecolor": "white",
           "ticks": "",
           "title": {
            "standoff": 15
           },
           "zerolinecolor": "white",
           "zerolinewidth": 2
          },
          "yaxis": {
           "automargin": true,
           "gridcolor": "white",
           "linecolor": "white",
           "ticks": "",
           "title": {
            "standoff": 15
           },
           "zerolinecolor": "white",
           "zerolinewidth": 2
          }
         }
        },
        "title": {
         "text": "True vs Pred in Geographic Space (mean err ≈ 11.1 m)"
        },
        "xaxis": {
         "anchor": "y",
         "domain": [
          0,
          1
         ],
         "title": {
          "text": "longitude (°)"
         }
        },
        "yaxis": {
         "anchor": "x",
         "domain": [
          0,
          0.322
         ],
         "title": {
          "text": "altitude (m)"
         }
        }
       }
      }
     },
     "metadata": {},
     "output_type": "display_data"
    }
   ],
   "source": [
    "# true_m, pred_m: (T,3) local meters [x_east, y_north, z_altDelta]\n",
    "# origin: (1,3) [lat0_deg, lon0_deg, alt0_m]\n",
    "\n",
    "R = 6_371_000.0\n",
    "lat0_deg = float(origin[0,0])\n",
    "lon0_deg = float(origin[0,1])\n",
    "alt0_m   = float(origin[0,2])\n",
    "\n",
    "lat0r = np.radians(lat0_deg)\n",
    "\n",
    "# convert local meters -> geographic\n",
    "t_lat = lat0r + true_m[:,1] / R\n",
    "t_lon = np.radians(lon0_deg) + true_m[:,0] / (R * np.cos(lat0r))\n",
    "p_lat = lat0r + pred_m[:,1] / R\n",
    "p_lon = np.radians(lon0_deg) + pred_m[:,0] / (R * np.cos(lat0r))\n",
    "\n",
    "t_lat_deg = np.degrees(t_lat); t_lon_deg = np.degrees(t_lon)\n",
    "p_lat_deg = np.degrees(p_lat); p_lon_deg = np.degrees(p_lon)\n",
    "\n",
    "true_alt = alt0_m + true_m[:,2]\n",
    "pred_alt = alt0_m + pred_m[:,2]\n",
    "\n",
    "# error (unchanged)\n",
    "step_err = np.linalg.norm(pred_m - true_m, axis=1)\n",
    "mean_err = float(step_err.mean()); final_err = float(step_err[-1])\n",
    "\n",
    "# ranges \n",
    "pad_deg = 0.02\n",
    "pad_alt = 50.0\n",
    "lon_all = np.r_[t_lon_deg, p_lon_deg, lon0_deg]\n",
    "lat_all = np.r_[t_lat_deg, p_lat_deg, lat0_deg]\n",
    "alt_all = np.r_[true_alt,   pred_alt,   alt0_m]\n",
    "\n",
    "fig = make_subplots(\n",
    "    rows=2, cols=1,\n",
    "    row_heights=[0.65, 0.35],\n",
    "    vertical_spacing=0.08,\n",
    "    specs=[[{\"type\":\"scene\"}],[{\"type\":\"xy\"}]]\n",
    ")\n",
    "\n",
    "# 3D lon/lat/alt \n",
    "fig.add_trace(go.Scatter3d(\n",
    "    x=t_lon_deg, y=t_lat_deg, z=true_alt,\n",
    "    mode=\"lines+markers\", name=\"true (lon,lat,alt)\",\n",
    "    line=dict(width=6), marker=dict(size=3)\n",
    "), row=1, col=1)\n",
    "\n",
    "fig.add_trace(go.Scatter3d(\n",
    "    x=p_lon_deg, y=p_lat_deg, z=pred_alt,\n",
    "    mode=\"lines+markers\", name=\"pred (lon,lat,alt)\",\n",
    "    line=dict(width=6), marker=dict(size=3)\n",
    "), row=1, col=1)\n",
    "\n",
    "# origin marker and faint connectors to first step\n",
    "fig.add_trace(go.Scatter3d(\n",
    "    x=[lon0_deg], y=[lat0_deg], z=[alt0_m],\n",
    "    mode=\"markers+text\", name=\"origin (lon0,lat0,alt0)\",\n",
    "    marker=dict(size=10, symbol=\"diamond\", color=\"black\"),\n",
    "    text=[\"origin\"], textposition=\"top center\"\n",
    "), row=1, col=1)\n",
    "\n",
    "fig.add_trace(go.Scatter3d(\n",
    "    x=[lon0_deg, t_lon_deg[0]],\n",
    "    y=[lat0_deg, t_lat_deg[0]],\n",
    "    z=[alt0_m,   true_alt[0]],\n",
    "    mode=\"lines\", showlegend=False, line=dict(width=2, dash=\"dot\")\n",
    "), row=1, col=1)\n",
    "\n",
    "fig.add_trace(go.Scatter3d(\n",
    "    x=[lon0_deg, p_lon_deg[0]],\n",
    "    y=[lat0_deg, p_lat_deg[0]],\n",
    "    z=[alt0_m,   pred_alt[0]],\n",
    "    mode=\"lines\", showlegend=False, line=dict(width=2, dash=\"dot\")\n",
    "), row=1, col=1)\n",
    "\n",
    "# finals + terminal error segment\n",
    "fig.add_trace(go.Scatter3d(\n",
    "    x=[t_lon_deg[-1]], y=[t_lat_deg[-1]], z=[true_alt[-1]],\n",
    "    mode=\"markers\", name=\"true final\",\n",
    "    marker=dict(size=9, symbol=\"diamond-open\")\n",
    "), row=1, col=1)\n",
    "\n",
    "fig.add_trace(go.Scatter3d(\n",
    "    x=[p_lon_deg[-1]], y=[p_lat_deg[-1]], z=[pred_alt[-1]],\n",
    "    mode=\"markers\", name=\"pred final\",\n",
    "    marker=dict(size=9, symbol=\"square\")\n",
    "), row=1, col=1)\n",
    "\n",
    "fig.add_trace(go.Scatter3d(\n",
    "    x=[t_lon_deg[-1], p_lon_deg[-1]],\n",
    "    y=[t_lat_deg[-1], p_lat_deg[-1]],\n",
    "    z=[true_alt[-1],  pred_alt[-1]],\n",
    "    mode=\"lines\", name=f\"final err ≈ {final_err:.1f} m\",\n",
    "    line=dict(dash=\"dash\", width=4)\n",
    "), row=1, col=1)\n",
    "\n",
    "# --- 2D projection: altitude vs longitude\n",
    "fig.add_trace(go.Scatter(\n",
    "    x=t_lon_deg, y=true_alt, mode=\"lines+markers\",\n",
    "    name=\"true (alt vs lon)\", line=dict(width=3)\n",
    "), row=2, col=1)\n",
    "\n",
    "fig.add_trace(go.Scatter(\n",
    "    x=p_lon_deg, y=pred_alt, mode=\"lines+markers\",\n",
    "    name=\"pred (alt vs lon)\", line=dict(width=3)\n",
    "), row=2, col=1)\n",
    "\n",
    "fig.add_trace(go.Scatter(\n",
    "    x=[lon0_deg, t_lon_deg[0]], y=[alt0_m, true_alt[0]],\n",
    "    mode=\"lines\", showlegend=False, line=dict(width=2, dash=\"dot\")\n",
    "), row=2, col=1)\n",
    "fig.add_trace(go.Scatter(\n",
    "    x=[lon0_deg, p_lon_deg[0]], y=[alt0_m, pred_alt[0]],\n",
    "    mode=\"lines\", showlegend=False, line=dict(width=2, dash=\"dot\")\n",
    "), row=2, col=1)\n",
    "fig.add_trace(go.Scatter(\n",
    "    x=[lon0_deg], y=[alt0_m], mode=\"markers+text\",\n",
    "    name=\"origin (alt vs lon)\", marker=dict(size=10, symbol=\"diamond\"),\n",
    "    text=[\"origin\"], textposition=\"top center\"\n",
    "), row=2, col=1)\n",
    "\n",
    "# layout\n",
    "fig.update_scenes(dict(\n",
    "    xaxis_title=\"longitude (°)\", yaxis_title=\"latitude (°)\", zaxis_title=\"altitude (m)\",\n",
    "    xaxis=dict(range=[lon_all.min()-pad_deg, lon_all.max()+pad_deg], showbackground=False, gridcolor=\"lightgray\"),\n",
    "    yaxis=dict(range=[lat_all.min()-pad_deg, lat_all.max()+pad_deg], showbackground=False, gridcolor=\"lightgray\"),\n",
    "    zaxis=dict(range=[alt_all.min()-pad_alt, alt_all.max()+pad_alt], showbackground=False, gridcolor=\"lightgray\"),\n",
    "    # make the box feel less flat \n",
    "    aspectmode=\"manual\", aspectratio=dict(x=2.0, y=2.0, z=1.2),\n",
    "    camera=dict(eye=dict(x=1.6, y=-1.5, z=1.2))\n",
    "), row=1, col=1)\n",
    "\n",
    "fig.update_xaxes(title_text=\"longitude (°)\", row=2, col=1)\n",
    "fig.update_yaxes(title_text=\"altitude (m)\", row=2, col=1)\n",
    "\n",
    "fig.update_layout(\n",
    "    title=f\"True vs Pred in Geographic Space (mean err ≈ {mean_err:.1f} m)\",\n",
    "    legend=dict(bgcolor=\"rgba(255,255,255,0.6)\"),\n",
    "    margin=dict(l=10, r=10, t=60, b=10),\n",
    "    height=820\n",
    ")\n",
    "\n",
    "fig.show()"
   ]
  },
  {
   "cell_type": "code",
   "execution_count": 62,
   "id": "27694be1",
   "metadata": {},
   "outputs": [
    {
     "data": {
      "image/png": "[encoded data removed]",
      "text/plain": [
       "<Figure size 770x660 with 1 Axes>"
      ]
     },
     "metadata": {},
     "output_type": "display_data"
    }
   ],
   "source": [
    "R = 6_371_000.0\n",
    "lat0_deg = float(origin[0,0]); lon0_deg = float(origin[0,1]); alt0_m = float(origin[0,2])\n",
    "lat0r = np.radians(lat0_deg)\n",
    "\n",
    "# ENU -> geographic\n",
    "t_lat = lat0r + true_m[:,1] / R\n",
    "t_lon = np.radians(lon0_deg) + true_m[:,0] / (R * np.cos(lat0r))\n",
    "p_lat = lat0r + pred_m[:,1] / R\n",
    "p_lon = np.radians(lon0_deg) + pred_m[:,0] / (R * np.cos(lat0r))\n",
    "t_lat_deg, t_lon_deg = np.degrees(t_lat), np.degrees(t_lon)\n",
    "p_lat_deg, p_lon_deg = np.degrees(p_lat), np.degrees(p_lon)\n",
    "true_alt = alt0_m + true_m[:,2]\n",
    "pred_alt = alt0_m + pred_m[:,2]\n",
    "\n",
    "# error (for legend/title)\n",
    "step_err = np.linalg.norm(pred_m - true_m, axis=1)\n",
    "final_err = float(step_err[-1])\n",
    "mean_err  = float(step_err.mean())\n",
    "\n",
    "# helper: set limits + aspect using physical spans, with vertical exaggeration\n",
    "def set_geo_axes(ax, lons_deg, lats_deg, alts_m, lat_ref_deg, margin=0.03, V_EXAGGERATE=8.0):\n",
    "    deg2rad = np.pi/180.0\n",
    "    lat_ref_r = np.radians(lat_ref_deg)\n",
    "    m_per_deg_lat = R * deg2rad\n",
    "    m_per_deg_lon = R * np.cos(lat_ref_r) * deg2rad\n",
    "\n",
    "    lon_min, lon_max = float(lons_deg.min()), float(lons_deg.max())\n",
    "    lat_min, lat_max = float(lats_deg.min()), float(lats_deg.max())\n",
    "    alt_min, alt_max = float(alts_m.min()), float(alts_m.max())\n",
    "\n",
    "    span_lon_m = max((lon_max - lon_min) * m_per_deg_lon, 1e-6)\n",
    "    span_lat_m = max((lat_max - lat_min) * m_per_deg_lat, 1e-6)\n",
    "    span_alt_m = max((alt_max - alt_min),                1e-6)\n",
    "\n",
    "    # limits: tight around data with small margin (no exaggeration in values)\n",
    "    lon_mid = 0.5*(lon_min+lon_max); lat_mid = 0.5*(lat_min+lat_max); alt_mid = 0.5*(alt_min+alt_max)\n",
    "    half_lon = 0.5*(lon_max-lon_min)*(1+2*margin)\n",
    "    half_lat = 0.5*(lat_max-lat_min)*(1+2*margin)\n",
    "    half_alt = 0.5*(alt_max-alt_min)*(1+2*margin)\n",
    "    ax.set_xlim(lon_mid-half_lon, lon_mid+half_lon)\n",
    "    ax.set_ylim(lat_mid-half_lat, lat_mid+half_lat)\n",
    "    ax.set_zlim(alt_mid-half_alt, alt_mid+half_alt)\n",
    "\n",
    "    # aspect: exaggerate Z so it’s visible\n",
    "    try:\n",
    "        ax.set_box_aspect((span_lon_m, span_lat_m, span_alt_m*V_EXAGGERATE))\n",
    "    except Exception:\n",
    "        pass\n",
    "\n",
    "# plot\n",
    "fig = plt.figure(figsize=(7,6), dpi=110)\n",
    "ax = fig.add_subplot(111, projection=\"3d\")\n",
    "for pane in (ax.xaxis.pane, ax.yaxis.pane, ax.zaxis.pane):\n",
    "    pane.set_visible(False)\n",
    "ax.grid(True, alpha=0.25)\n",
    "try: ax.set_proj_type('ortho')\n",
    "except Exception: pass\n",
    "\n",
    "ax.plot(t_lon_deg, t_lat_deg, true_alt, '-', label='true next', linewidth=2.5)\n",
    "ax.plot(p_lon_deg, p_lat_deg, pred_alt, '-', label='pred next', linewidth=2.5)\n",
    "ax.scatter([lon0_deg],[lat0_deg],[alt0_m], s=50, marker='^', label='origin (y0)')\n",
    "ax.scatter([t_lon_deg[-1]],[t_lat_deg[-1]],[true_alt[-1]], s=60, marker='^', label='true final')\n",
    "ax.scatter([p_lon_deg[-1]],[p_lat_deg[-1]],[pred_alt[-1]], s=60, marker='s', label='pred final')\n",
    "ax.plot([t_lon_deg[-1], p_lon_deg[-1]],\n",
    "        [t_lat_deg[-1], p_lat_deg[-1]],\n",
    "        [true_alt[-1],  pred_alt[-1]], linestyle='--', linewidth=2, label=f'final err ≈ {final_err:.1f} m')\n",
    "\n",
    "ax.set_xlabel(\"longitude (°)\", labelpad=8)\n",
    "ax.set_ylabel(\"latitude (°)\",  labelpad=8)\n",
    "ax.set_zlabel(\"altitude (m)\",  labelpad=8)\n",
    "ax.set_title(f\"3D Next-Steps (lon/lat/alt): mean err ≈ {mean_err:.1f} m\", pad=10)\n",
    "\n",
    "all_lon = np.r_[t_lon_deg, p_lon_deg, lon0_deg]\n",
    "all_lat = np.r_[t_lat_deg, p_lat_deg, lat0_deg]\n",
    "all_alt = np.r_[true_alt,  pred_alt,  alt0_m]\n",
    "set_geo_axes(ax, all_lon, all_lat, all_alt, lat0_deg, margin=0.03, V_EXAGGERATE=8.0)\n",
    "\n",
    "ax.view_init(elev=24, azim=-55)\n",
    "ax.legend(frameon=False, loc='best')\n",
    "plt.tight_layout()\n",
    "plt.show()"
   ]
  },
  {
   "cell_type": "code",
   "execution_count": null,
   "id": "40370117",
   "metadata": {},
   "outputs": [],
   "source": []
  }
 ],
 "metadata": {
  "kernelspec": {
   "display_name": "venv",
   "language": "python",
   "name": "python3"
  },
  "language_info": {
   "codemirror_mode": {
    "name": "ipython",
    "version": 3
   },
   "file_extension": ".py",
   "mimetype": "text/x-python",
   "name": "python",
   "nbconvert_exporter": "python",
   "pygments_lexer": "ipython3",
   "version": "3.11.9"
  }
 },
 "nbformat": 4,
 "nbformat_minor": 5
}
