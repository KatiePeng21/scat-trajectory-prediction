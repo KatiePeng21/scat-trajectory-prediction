{
 "cells": [
  {
   "cell_type": "markdown",
   "id": "694a9b06",
   "metadata": {},
   "source": [
    "# SCAT Trajectory Prediction\n",
    "### End-to-End ML Pipeline (Data → Weather Merge → Model → Evaluation)\n",
    "\n",
    "**Goal:** Predict aircraft future trajectories using past positions + weather data.\n",
    "\n",
    "**Steps in this notebook:**\n",
    "1. Load cleaned SCAT dataset (validated_cleaned.parquet)\n",
    "2. Load weather data (grib_meteo.json)\n",
    "3. Merge weather features (temp, wind speed, wind direction) with trajectories\n",
    "4. Save combined dataset for ML"
   ]
  },
  {
   "cell_type": "code",
   "execution_count": 5,
   "id": "a40d5bef",
   "metadata": {},
   "outputs": [],
   "source": [
    "import pandas as pd\n",
    "import numpy as np\n",
    "import json\n",
    "from scipy.spatial import cKDTree\n",
    "from tqdm import tqdm"
   ]
  },
  {
   "cell_type": "code",
   "execution_count": 7,
   "id": "3a8f05de",
   "metadata": {},
   "outputs": [
    {
     "name": "stdout",
     "output_type": "stream",
     "text": [
      "Dataset shape: (70197504, 5)\n",
      "   flight_id                        time        lat        lon     alt\n",
      "0     100000  2016-10-20T11:40:02.898437  55.348172  13.029962  146.25\n",
      "1     100000  2016-10-20T11:40:07.898437  55.340731  13.036260  149.00\n",
      "2     100000  2016-10-20T11:40:12.898437  55.333242  13.042418  150.25\n",
      "3     100000  2016-10-20T11:40:17.898437  55.325625  13.048823  153.00\n",
      "4     100000  2016-10-20T11:40:22.898437  55.318018  13.055239  156.50\n"
     ]
    }
   ],
   "source": [
    "# load SCAT cleaned data\n",
    "df = pd.read_parquet(\"validated_data/validated_cleaned.parquet\")\n",
    "\n",
    "print(f\"Dataset shape: {df.shape}\")\n",
    "print(df.head())"
   ]
  },
  {
   "cell_type": "code",
   "execution_count": null,
   "id": "f516d469",
   "metadata": {},
   "outputs": [],
   "source": [
    "# load weather data\n",
    "\n"
   ]
  }
 ],
 "metadata": {
  "kernelspec": {
   "display_name": "venv",
   "language": "python",
   "name": "python3"
  },
  "language_info": {
   "codemirror_mode": {
    "name": "ipython",
    "version": 3
   },
   "file_extension": ".py",
   "mimetype": "text/x-python",
   "name": "python",
   "nbconvert_exporter": "python",
   "pygments_lexer": "ipython3",
   "version": "3.13.5"
  }
 },
 "nbformat": 4,
 "nbformat_minor": 5
}
